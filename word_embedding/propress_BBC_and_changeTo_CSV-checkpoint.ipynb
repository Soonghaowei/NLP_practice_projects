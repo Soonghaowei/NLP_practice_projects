{
 "cells": [
  {
   "cell_type": "code",
   "execution_count": 1,
   "metadata": {},
   "outputs": [],
   "source": [
    "import csv\n",
    "import os\n",
    "import pandas as pd"
   ]
  },
  {
   "cell_type": "code",
   "execution_count": 2,
   "metadata": {},
   "outputs": [],
   "source": [
    "title2=[]\n",
    "contens2 = []\n",
    "for filename in os.listdir('D:\\\\Soong\\\\Soong\\\\readability\\\\dataset\\\\bbc\\\\sport'):\n",
    "    f=open('D:\\\\Soong\\\\Soong\\\\readability\\\\dataset\\\\bbc\\\\sport\\\\'+filename, 'r', encoding=\"utf8\", errors='ignore')\n",
    "    lines=f.readlines()\n",
    "    a=1\n",
    "    cont=''\n",
    "    for line in lines:\n",
    "        \n",
    "        if a==1:\n",
    "            title2.append(line)\n",
    "        a=a+1\n",
    "        \n",
    "        if line is not '\\n' and a!=2:\n",
    "            cont=''.join(line)\n",
    "    contens2.append(cont)\n",
    "#             title2.append('0')\n",
    "\n",
    "            \n",
    "for filename in os.listdir('D:\\\\Soong\\\\Soong\\\\readability\\\\dataset\\\\bbc\\\\politics'):\n",
    "    f=open('D:\\\\Soong\\\\Soong\\\\readability\\\\dataset\\\\bbc\\\\politics\\\\'+filename, 'r',  encoding=\"utf8\", errors='ignore')\n",
    "    lines=f.readlines()\n",
    "    a=1\n",
    "    cont=''\n",
    "    for line in lines:\n",
    "        \n",
    "        if a==1:\n",
    "            title2.append(line)\n",
    "        a=a+1\n",
    "        \n",
    "        if line is not '\\n' and a!=2:\n",
    "            cont=''.join(line)\n",
    "    contens2.append(cont)\n",
    "\n",
    "            \n",
    "for filename in os.listdir('D:\\\\Soong\\\\Soong\\\\readability\\\\dataset\\\\bbc\\\\entertainment'):\n",
    "    f=open('D:\\\\Soong\\\\Soong\\\\readability\\\\dataset\\\\bbc\\\\entertainment\\\\'+filename, 'r',  encoding=\"utf8\", errors='ignore')\n",
    "    lines=f.readlines()\n",
    "    a=1\n",
    "    cont=''\n",
    "    for line in lines:\n",
    "        \n",
    "        if a==1:\n",
    "            title2.append(line)\n",
    "        a=a+1\n",
    "        \n",
    "        if line is not '\\n' and a!=2:\n",
    "            cont=''.join(line)\n",
    "    contens2.append(cont)\n",
    "                          \n",
    "for filename in os.listdir('D:\\\\Soong\\\\Soong\\\\readability\\\\dataset\\\\bbc\\\\business'):\n",
    "    f=open('D:\\\\Soong\\\\Soong\\\\readability\\\\dataset\\\\bbc\\\\business\\\\'+filename, 'r',  encoding=\"utf8\", errors='ignore')\n",
    "    lines=f.readlines()\n",
    "    a=1\n",
    "    cont=''\n",
    "    for line in lines:\n",
    "        \n",
    "        if a==1:\n",
    "            title2.append(line)\n",
    "        a=a+1\n",
    "        \n",
    "        if line is not '\\n' and a!=2:\n",
    "            cont=''.join(line)\n",
    "    contens2.append(cont)"
   ]
  },
  {
   "cell_type": "code",
   "execution_count": null,
   "metadata": {},
   "outputs": [],
   "source": [
    "dataframe=pd.DataFrame({'title':title2,'content':contens2})\n",
    "dataframe.to_csv(\"D:\\\\Soong\\\\Soong\\\\corpus\\\\CNNNewsDataset.csv\", index=False,  encoding=\"utf_8\")"
   ]
  }
 ],
 "metadata": {
  "kernelspec": {
   "display_name": "Python 3",
   "language": "python",
   "name": "python3"
  },
  "language_info": {
   "codemirror_mode": {
    "name": "ipython",
    "version": 3
   },
   "file_extension": ".py",
   "mimetype": "text/x-python",
   "name": "python",
   "nbconvert_exporter": "python",
   "pygments_lexer": "ipython3",
   "version": "3.7.3"
  }
 },
 "nbformat": 4,
 "nbformat_minor": 2
}
